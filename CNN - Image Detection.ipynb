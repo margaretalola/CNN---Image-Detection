{
  "cells": [
    {
      "cell_type": "markdown",
      "metadata": {
        "id": "32GpK_7xd-D5"
      },
      "source": [
        "# Image Detection dengan Convolutional Neural Network"
      ]
    },
    {
      "cell_type": "markdown",
      "metadata": {
        "id": "sywJTHiMd5hP"
      },
      "source": [
        "## Load Dataset\n"
      ]
    },
    {
      "cell_type": "markdown",
      "metadata": {
        "id": "tah3Jp7LfRzQ"
      },
      "source": [
        "### Import Library"
      ]
    },
    {
      "cell_type": "code",
      "execution_count": null,
      "metadata": {
        "id": "8e6gs14MGKaO"
      },
      "outputs": [],
      "source": [
        "import tensorflow as tf\n",
        "import pandas as pd\n",
        "import matplotlib.pyplot as plt\n",
        "from tensorflow import keras\n",
        "import shutil, zipfile, os\n",
        "import gdown\n",
        "from tensorflow.keras.preprocessing import image\n",
        "from tensorflow.keras.preprocessing.image import ImageDataGenerator"
      ]
    },
    {
      "cell_type": "markdown",
      "metadata": {
        "id": "oexQBFy3fxSE"
      },
      "source": [
        "### Ekstrasi File Zip"
      ]
    },
    {
      "cell_type": "code",
      "execution_count": null,
      "metadata": {
        "colab": {
          "base_uri": "https://localhost:8080/"
        },
        "id": "K3RwX6u2HPJ_",
        "outputId": "b3b1f1d6-56c5-42ee-9140-78a5d112f972"
      },
      "outputs": [
        {
          "name": "stderr",
          "output_type": "stream",
          "text": [
            "Downloading...\n",
            "From: https://drive.google.com/uc?id=1JT9gRbvRj-20a847GQTr3t1QuLEkOABW\n",
            "To: /content/dataset-image.zip\n",
            "100%|██████████| 125M/125M [00:04<00:00, 26.2MB/s]\n"
          ]
        }
      ],
      "source": [
        "file_id = '1JT9gRbvRj-20a847GQTr3t1QuLEkOABW'\n",
        "url = f'https://drive.google.com/uc?id={file_id}'\n",
        "\n",
        "output = 'dataset-image.zip'\n",
        "\n",
        "gdown.download(url, output, quiet=False)\n",
        "\n",
        "with zipfile.ZipFile(output, 'r') as zip_ref:\n",
        "    zip_ref.extractall('/tmp')\n"
      ]
    },
    {
      "cell_type": "markdown",
      "metadata": {
        "id": "Uqa-7-uJgCN8"
      },
      "source": [
        "### Pembuatan Path Data Training"
      ]
    },
    {
      "cell_type": "code",
      "execution_count": null,
      "metadata": {
        "id": "3OCcrFb_SqM5"
      },
      "outputs": [],
      "source": [
        "train_data_dir= os.path.abspath('/tmp/data')"
      ]
    },
    {
      "cell_type": "markdown",
      "metadata": {
        "id": "w8U6OkF3gJvb"
      },
      "source": [
        "## Preprocessing Data"
      ]
    },
    {
      "cell_type": "markdown",
      "metadata": {},
      "source": [
        "inisialisasi untuk tinggi dan lebar gambar yang akan diolah"
      ]
    },
    {
      "cell_type": "code",
      "execution_count": null,
      "metadata": {
        "id": "gGPUREa8IfhQ"
      },
      "outputs": [],
      "source": [
        "img_width, img_height = 64, 64"
      ]
    },
    {
      "cell_type": "markdown",
      "metadata": {
        "id": "bSmBoxpdkPWb"
      },
      "source": [
        "### Pembagian dataset"
      ]
    },
    {
      "cell_type": "code",
      "execution_count": null,
      "metadata": {
        "id": "xjCNWsf7Ihrl"
      },
      "outputs": [],
      "source": [
        "train_datagen = ImageDataGenerator(\n",
        "                    rescale=1./255,\n",
        "                    rotation_range=20,\n",
        "                    horizontal_flip=True,\n",
        "                    shear_range = 0.2,\n",
        "                    fill_mode = 'nearest',\n",
        "                    validation_split=0.4\n",
        "                    )\n",
        "\n",
        "validation_datagen = ImageDataGenerator(\n",
        "                    rescale=1./255,\n",
        "                    rotation_range=20,\n",
        "                    horizontal_flip= True,\n",
        "                    shear_range=0.2,\n",
        "                    fill_mode='nearest',\n",
        "                    validation_split=0.4\n",
        "                    )"
      ]
    },
    {
      "cell_type": "code",
      "execution_count": null,
      "metadata": {
        "colab": {
          "base_uri": "https://localhost:8080/"
        },
        "id": "jskGQkU4Xvdr",
        "outputId": "b2ebae76-2399-4527-cd60-7bd33e913747"
      },
      "outputs": [
        {
          "name": "stdout",
          "output_type": "stream",
          "text": [
            "Found 10657 images belonging to 2 classes.\n",
            "Found 7103 images belonging to 2 classes.\n"
          ]
        }
      ],
      "source": [
        "train_generator = train_datagen.flow_from_directory(\n",
        "    train_data_dir,\n",
        "    target_size=(img_width, img_height),\n",
        "    batch_size=32,\n",
        "    class_mode='binary',\n",
        "    subset='training'\n",
        ")\n",
        "\n",
        "validation_generator = validation_datagen.flow_from_directory(\n",
        "    train_data_dir,\n",
        "    target_size=(img_width, img_height),\n",
        "    batch_size= 32,\n",
        "    class_mode='binary',\n",
        "    subset='validation'\n",
        ")"
      ]
    },
    {
      "cell_type": "markdown",
      "metadata": {
        "id": "gQV3fGlekUDk"
      },
      "source": [
        "## Pembuatan Model"
      ]
    },
    {
      "cell_type": "code",
      "execution_count": null,
      "metadata": {
        "id": "4ld6QoZ_I5nH"
      },
      "outputs": [],
      "source": [
        "model = tf.keras.models.Sequential([\n",
        "    tf.keras.layers.Conv2D(32, (3, 3), activation='relu', input_shape=(img_width, img_height, 3)),\n",
        "    tf.keras.layers.MaxPooling2D((2, 2)),\n",
        "    tf.keras.layers.Conv2D(64, (3, 3), activation='relu'),\n",
        "    tf.keras.layers.MaxPooling2D((2, 2)),\n",
        "    tf.keras.layers.Conv2D(128, (3,3), activation='relu'),\n",
        "    tf.keras.layers.MaxPooling2D((2, 2)),\n",
        "    tf.keras.layers.Flatten(),\n",
        "    tf.keras.layers.Dense(128, activation='relu'),\n",
        "    tf.keras.layers.Dense(1, activation='sigmoid')\n",
        "])"
      ]
    },
    {
      "cell_type": "code",
      "execution_count": null,
      "metadata": {
        "colab": {
          "base_uri": "https://localhost:8080/"
        },
        "id": "jZQNZzXTZVdQ",
        "outputId": "f1d42a30-3ced-4f9a-deda-270f9dc72591"
      },
      "outputs": [
        {
          "name": "stdout",
          "output_type": "stream",
          "text": [
            "Model: \"sequential\"\n",
            "_________________________________________________________________\n",
            " Layer (type)                Output Shape              Param #   \n",
            "=================================================================\n",
            " conv2d (Conv2D)             (None, 62, 62, 32)        896       \n",
            "                                                                 \n",
            " max_pooling2d (MaxPooling2  (None, 31, 31, 32)        0         \n",
            " D)                                                              \n",
            "                                                                 \n",
            " conv2d_1 (Conv2D)           (None, 29, 29, 64)        18496     \n",
            "                                                                 \n",
            " max_pooling2d_1 (MaxPoolin  (None, 14, 14, 64)        0         \n",
            " g2D)                                                            \n",
            "                                                                 \n",
            " conv2d_2 (Conv2D)           (None, 12, 12, 128)       73856     \n",
            "                                                                 \n",
            " max_pooling2d_2 (MaxPoolin  (None, 6, 6, 128)         0         \n",
            " g2D)                                                            \n",
            "                                                                 \n",
            " flatten (Flatten)           (None, 4608)              0         \n",
            "                                                                 \n",
            " dense (Dense)               (None, 128)               589952    \n",
            "                                                                 \n",
            " dense_1 (Dense)             (None, 1)                 129       \n",
            "                                                                 \n",
            "=================================================================\n",
            "Total params: 683329 (2.61 MB)\n",
            "Trainable params: 683329 (2.61 MB)\n",
            "Non-trainable params: 0 (0.00 Byte)\n",
            "_________________________________________________________________\n"
          ]
        }
      ],
      "source": [
        "model.summary()"
      ]
    },
    {
      "cell_type": "markdown",
      "metadata": {
        "id": "St27lLkKlCnx"
      },
      "source": [
        "## Pelatihan Model"
      ]
    },
    {
      "cell_type": "code",
      "execution_count": null,
      "metadata": {
        "id": "kWNYd746I8jE"
      },
      "outputs": [],
      "source": [
        "model.compile(optimizer= tf.optimizers.Adam(),\n",
        "              loss='binary_crossentropy',\n",
        "              metrics=['accuracy'])"
      ]
    },
    {
      "cell_type": "code",
      "execution_count": null,
      "metadata": {
        "colab": {
          "base_uri": "https://localhost:8080/"
        },
        "id": "TvGZhVDxI_84",
        "outputId": "daf52bd2-6e16-469d-ce62-9733ab95aceb"
      },
      "outputs": [
        {
          "name": "stdout",
          "output_type": "stream",
          "text": [
            "Epoch 1/32\n",
            "334/334 - 32s - loss: 0.2211 - accuracy: 0.9107 - val_loss: 0.0590 - val_accuracy: 0.9812 - 32s/epoch - 95ms/step\n",
            "Epoch 2/32\n",
            "334/334 - 23s - loss: 0.0990 - accuracy: 0.9656 - val_loss: 0.0553 - val_accuracy: 0.9812 - 23s/epoch - 69ms/step\n",
            "Epoch 3/32\n",
            "334/334 - 20s - loss: 0.0851 - accuracy: 0.9696 - val_loss: 0.0685 - val_accuracy: 0.9625 - 20s/epoch - 60ms/step\n",
            "Epoch 4/32\n",
            "334/334 - 20s - loss: 0.0520 - accuracy: 0.9818 - val_loss: 0.0596 - val_accuracy: 0.9875 - 20s/epoch - 59ms/step\n",
            "Epoch 5/32\n",
            "334/334 - 21s - loss: 0.0407 - accuracy: 0.9844 - val_loss: 0.0601 - val_accuracy: 0.9812 - 21s/epoch - 62ms/step\n",
            "Epoch 6/32\n",
            "334/334 - 19s - loss: 0.0467 - accuracy: 0.9831 - val_loss: 0.0215 - val_accuracy: 0.9937 - 19s/epoch - 58ms/step\n",
            "Epoch 7/32\n",
            "334/334 - 21s - loss: 0.0370 - accuracy: 0.9879 - val_loss: 0.0131 - val_accuracy: 0.9875 - 21s/epoch - 64ms/step\n",
            "Epoch 8/32\n",
            "334/334 - 20s - loss: 0.0312 - accuracy: 0.9889 - val_loss: 0.0152 - val_accuracy: 0.9875 - 20s/epoch - 59ms/step\n",
            "Epoch 9/32\n",
            "334/334 - 20s - loss: 0.0230 - accuracy: 0.9932 - val_loss: 0.0210 - val_accuracy: 0.9875 - 20s/epoch - 61ms/step\n",
            "Epoch 10/32\n",
            "334/334 - 20s - loss: 0.0298 - accuracy: 0.9892 - val_loss: 0.0192 - val_accuracy: 0.9875 - 20s/epoch - 61ms/step\n",
            "Epoch 11/32\n",
            "334/334 - 19s - loss: 0.0231 - accuracy: 0.9926 - val_loss: 0.0066 - val_accuracy: 1.0000 - 19s/epoch - 58ms/step\n",
            "Epoch 12/32\n",
            "334/334 - 21s - loss: 0.0250 - accuracy: 0.9921 - val_loss: 0.0056 - val_accuracy: 1.0000 - 21s/epoch - 64ms/step\n",
            "Epoch 13/32\n",
            "334/334 - 21s - loss: 0.0254 - accuracy: 0.9901 - val_loss: 0.0280 - val_accuracy: 0.9937 - 21s/epoch - 63ms/step\n",
            "Epoch 14/32\n",
            "334/334 - 21s - loss: 0.0228 - accuracy: 0.9917 - val_loss: 0.0106 - val_accuracy: 0.9937 - 21s/epoch - 64ms/step\n",
            "Epoch 15/32\n",
            "334/334 - 19s - loss: 0.0151 - accuracy: 0.9952 - val_loss: 0.0291 - val_accuracy: 0.9875 - 19s/epoch - 57ms/step\n",
            "Epoch 16/32\n",
            "334/334 - 21s - loss: 0.0214 - accuracy: 0.9932 - val_loss: 0.0317 - val_accuracy: 0.9875 - 21s/epoch - 62ms/step\n",
            "Epoch 17/32\n",
            "334/334 - 30s - loss: 0.0159 - accuracy: 0.9940 - val_loss: 0.0418 - val_accuracy: 0.9812 - 30s/epoch - 89ms/step\n",
            "Epoch 18/32\n",
            "334/334 - 23s - loss: 0.0199 - accuracy: 0.9933 - val_loss: 0.0307 - val_accuracy: 0.9875 - 23s/epoch - 70ms/step\n",
            "Epoch 19/32\n",
            "334/334 - 19s - loss: 0.0211 - accuracy: 0.9924 - val_loss: 0.1168 - val_accuracy: 0.9688 - 19s/epoch - 58ms/step\n",
            "Epoch 20/32\n",
            "334/334 - 21s - loss: 0.0154 - accuracy: 0.9953 - val_loss: 0.0131 - val_accuracy: 0.9937 - 21s/epoch - 64ms/step\n",
            "Epoch 21/32\n",
            "334/334 - 21s - loss: 0.0131 - accuracy: 0.9961 - val_loss: 0.0412 - val_accuracy: 0.9937 - 21s/epoch - 62ms/step\n",
            "Epoch 22/32\n",
            "334/334 - 20s - loss: 0.0144 - accuracy: 0.9953 - val_loss: 0.0506 - val_accuracy: 0.9812 - 20s/epoch - 61ms/step\n",
            "Epoch 23/32\n",
            "334/334 - 20s - loss: 0.0201 - accuracy: 0.9926 - val_loss: 0.0077 - val_accuracy: 1.0000 - 20s/epoch - 60ms/step\n",
            "Epoch 24/32\n",
            "334/334 - 19s - loss: 0.0112 - accuracy: 0.9962 - val_loss: 0.0011 - val_accuracy: 1.0000 - 19s/epoch - 58ms/step\n",
            "Epoch 25/32\n",
            "334/334 - 21s - loss: 0.0146 - accuracy: 0.9953 - val_loss: 0.0364 - val_accuracy: 0.9812 - 21s/epoch - 64ms/step\n",
            "Epoch 26/32\n",
            "334/334 - 23s - loss: 0.0148 - accuracy: 0.9952 - val_loss: 0.0086 - val_accuracy: 0.9937 - 23s/epoch - 69ms/step\n",
            "Epoch 27/32\n",
            "334/334 - 23s - loss: 0.0072 - accuracy: 0.9974 - val_loss: 0.0147 - val_accuracy: 0.9937 - 23s/epoch - 68ms/step\n",
            "Epoch 28/32\n",
            "334/334 - 22s - loss: 0.0124 - accuracy: 0.9962 - val_loss: 0.0026 - val_accuracy: 1.0000 - 22s/epoch - 66ms/step\n",
            "Epoch 29/32\n",
            "334/334 - 22s - loss: 0.0124 - accuracy: 0.9956 - val_loss: 0.0024 - val_accuracy: 1.0000 - 22s/epoch - 65ms/step\n",
            "Epoch 30/32\n",
            "334/334 - 22s - loss: 0.0120 - accuracy: 0.9960 - val_loss: 0.0203 - val_accuracy: 0.9875 - 22s/epoch - 65ms/step\n",
            "Epoch 31/32\n",
            "334/334 - 22s - loss: 0.0110 - accuracy: 0.9962 - val_loss: 5.4496e-04 - val_accuracy: 1.0000 - 22s/epoch - 67ms/step\n",
            "Epoch 32/32\n",
            "334/334 - 20s - loss: 0.0124 - accuracy: 0.9962 - val_loss: 0.0856 - val_accuracy: 0.9875 - 20s/epoch - 60ms/step\n"
          ]
        }
      ],
      "source": [
        "hist = model.fit(train_generator,\n",
        "                 epochs = 32,\n",
        "                 validation_data=validation_generator,\n",
        "                 validation_steps=5,\n",
        "                 verbose=2)"
      ]
    },
    {
      "cell_type": "markdown",
      "metadata": {
        "id": "6WlLTbMcpTW9"
      },
      "source": [
        "### Hasil Evaluasi Pengujian Model"
      ]
    },
    {
      "cell_type": "code",
      "execution_count": null,
      "metadata": {
        "colab": {
          "base_uri": "https://localhost:8080/"
        },
        "id": "XMhkXlX9hjWX",
        "outputId": "ee3e1f50-4e08-412b-94cc-66cb7052e6bf"
      },
      "outputs": [
        {
          "name": "stdout",
          "output_type": "stream",
          "text": [
            "222/222 [==============================] - 15s 67ms/step - loss: 0.0824 - accuracy: 0.9810\n",
            "Test accuracy: 0.98\n"
          ]
        }
      ],
      "source": [
        "test_loss, test_accuracy = model.evaluate(validation_generator)\n",
        "print(f'Test accuracy: {test_accuracy:.2f}')"
      ]
    },
    {
      "cell_type": "markdown",
      "metadata": {
        "id": "_X18_iahpf1w"
      },
      "source": [
        "#### Grafik Hasil Evaluasi Pengujian"
      ]
    },
    {
      "cell_type": "code",
      "execution_count": null,
      "metadata": {
        "colab": {
          "base_uri": "https://localhost:8080/",
          "height": 428
        },
        "id": "bQf4cZHrhSOG",
        "outputId": "11636daf-8644-4b8b-8281-87d527cb1de2"
      },
      "outputs": [
        {
          "data": {
            "text/plain": [
              "Text(0.5, 1.0, 'Training and validation accuracy')"
            ]
          },
          "execution_count": 12,
          "metadata": {},
          "output_type": "execute_result"
        },
        {
          "data": {
            "image/png": "[encoded data removed]",
            "text/plain": [
              "<Figure size 1000x400 with 1 Axes>"
            ]
          },
          "metadata": {},
          "output_type": "display_data"
        }
      ],
      "source": [
        "acc = hist.history['accuracy']\n",
        "val_acc = hist.history['val_accuracy']\n",
        "\n",
        "plt.figure(figsize=(10,4))\n",
        "plt.plot(acc, label='Training Accuracy', color='blue')\n",
        "plt.plot(val_acc, label='Training Validation', color='red')\n",
        "\n",
        "plt.xlabel('Epochs')\n",
        "plt.ylabel('accuracy')\n",
        "plt.legend()\n",
        "plt.title('Training and validation accuracy')"
      ]
    },
    {
      "cell_type": "code",
      "execution_count": null,
      "metadata": {
        "colab": {
          "base_uri": "https://localhost:8080/",
          "height": 428
        },
        "id": "SmXgRfzhiGu0",
        "outputId": "0c67da49-f38c-447d-920a-4f2808bfae7d"
      },
      "outputs": [
        {
          "data": {
            "text/plain": [
              "Text(0.5, 1.0, 'Training and validation loss')"
            ]
          },
          "execution_count": 13,
          "metadata": {},
          "output_type": "execute_result"
        },
        {
          "data": {
            "image/png": "[encoded data removed]",
            "text/plain": [
              "<Figure size 1000x400 with 1 Axes>"
            ]
          },
          "metadata": {},
          "output_type": "display_data"
        }
      ],
      "source": [
        "loss = hist.history['loss']\n",
        "val_loss = hist.history['val_loss']\n",
        "\n",
        "plt.figure(figsize=(10,4))\n",
        "plt.plot(loss, label='Training Loss', color='blue')\n",
        "plt.plot(val_loss, label='Training Validation', color='red')\n",
        "\n",
        "plt.xlabel('Epochs')\n",
        "plt.ylabel('accuracy')\n",
        "plt.legend()\n",
        "plt.title('Training and validation loss')"
      ]
    },
    {
      "cell_type": "markdown",
      "metadata": {
        "id": "SDTQCvv2pqTD"
      },
      "source": [
        "## Save Hasil Model"
      ]
    },
    {
      "cell_type": "code",
      "execution_count": null,
      "metadata": {
        "colab": {
          "base_uri": "https://localhost:8080/"
        },
        "id": "RrG26k5yNneG",
        "outputId": "defb1ac4-c8f7-4f02-b245-100ee0773fb4"
      },
      "outputs": [
        {
          "name": "stderr",
          "output_type": "stream",
          "text": [
            "/usr/local/lib/python3.10/dist-packages/keras/src/engine/training.py:3079: UserWarning: You are saving your model as an HDF5 file via `model.save()`. This file format is considered legacy. We recommend using instead the native Keras format, e.g. `model.save('my_model.keras')`.\n",
            "  saving_api.save_model(\n"
          ]
        }
      ],
      "source": [
        "model.save('/content/cnn-model-image-detection.h5')"
      ]
    },
    {
      "cell_type": "markdown",
      "metadata": {
        "id": "cmAcanzvpwDr"
      },
      "source": [
        "## Final Testing"
      ]
    },
    {
      "cell_type": "code",
      "execution_count": null,
      "metadata": {
        "colab": {
          "base_uri": "https://localhost:8080/",
          "height": 110
        },
        "id": "NFDzilA9Xudr",
        "outputId": "00a5c4e5-d79d-4605-ed9f-1ecc39017010"
      },
      "outputs": [
        {
          "data": {
            "text/html": [
              "\n",
              "     <input type=\"file\" id=\"files-2ac277c4-9212-4a88-9edb-f8facfbb1eb8\" name=\"files[]\" multiple disabled\n",
              "        style=\"border:none\" />\n",
              "     <output id=\"result-2ac277c4-9212-4a88-9edb-f8facfbb1eb8\">\n",
              "      Upload widget is only available when the cell has been executed in the\n",
              "      current browser session. Please rerun this cell to enable.\n",
              "      </output>\n",
              "      <script>// Copyright 2017 Google LLC\n",
              "//\n",
              "// Licensed under the Apache License, Version 2.0 (the \"License\");\n",
              "// you may not use this file except in compliance with the License.\n",
              "// You may obtain a copy of the License at\n",
              "//\n",
              "//      http://www.apache.org/licenses/LICENSE-2.0\n",
              "//\n",
              "// Unless required by applicable law or agreed to in writing, software\n",
              "// distributed under the License is distributed on an \"AS IS\" BASIS,\n",
              "// WITHOUT WARRANTIES OR CONDITIONS OF ANY KIND, either express or implied.\n",
              "// See the License for the specific language governing permissions and\n",
              "// limitations under the License.\n",
              "\n",
              "/**\n",
              " * @fileoverview Helpers for google.colab Python module.\n",
              " */\n",
              "(function(scope) {\n",
              "function span(text, styleAttributes = {}) {\n",
              "  const element = document.createElement('span');\n",
              "  element.textContent = text;\n",
              "  for (const key of Object.keys(styleAttributes)) {\n",
              "    element.style[key] = styleAttributes[key];\n",
              "  }\n",
              "  return element;\n",
              "}\n",
              "\n",
              "// Max number of bytes which will be uploaded at a time.\n",
              "const MAX_PAYLOAD_SIZE = 100 * 1024;\n",
              "\n",
              "function _uploadFiles(inputId, outputId) {\n",
              "  const steps = uploadFilesStep(inputId, outputId);\n",
              "  const outputElement = document.getElementById(outputId);\n",
              "  // Cache steps on the outputElement to make it available for the next call\n",
              "  // to uploadFilesContinue from Python.\n",
              "  outputElement.steps = steps;\n",
              "\n",
              "  return _uploadFilesContinue(outputId);\n",
              "}\n",
              "\n",
              "// This is roughly an async generator (not supported in the browser yet),\n",
              "// where there are multiple asynchronous steps and the Python side is going\n",
              "// to poll for completion of each step.\n",
              "// This uses a Promise to block the python side on completion of each step,\n",
              "// then passes the result of the previous step as the input to the next step.\n",
              "function _uploadFilesContinue(outputId) {\n",
              "  const outputElement = document.getElementById(outputId);\n",
              "  const steps = outputElement.steps;\n",
              "\n",
              "  const next = steps.next(outputElement.lastPromiseValue);\n",
              "  return Promise.resolve(next.value.promise).then((value) => {\n",
              "    // Cache the last promise value to make it available to the next\n",
              "    // step of the generator.\n",
              "    outputElement.lastPromiseValue = value;\n",
              "    return next.value.response;\n",
              "  });\n",
              "}\n",
              "\n",
              "/**\n",
              " * Generator function which is called between each async step of the upload\n",
              " * process.\n",
              " * @param {string} inputId Element ID of the input file picker element.\n",
              " * @param {string} outputId Element ID of the output display.\n",
              " * @return {!Iterable<!Object>} Iterable of next steps.\n",
              " */\n",
              "function* uploadFilesStep(inputId, outputId) {\n",
              "  const inputElement = document.getElementById(inputId);\n",
              "  inputElement.disabled = false;\n",
              "\n",
              "  const outputElement = document.getElementById(outputId);\n",
              "  outputElement.innerHTML = '';\n",
              "\n",
              "  const pickedPromise = new Promise((resolve) => {\n",
              "    inputElement.addEventListener('change', (e) => {\n",
              "      resolve(e.target.files);\n",
              "    });\n",
              "  });\n",
              "\n",
              "  const cancel = document.createElement('button');\n",
              "  inputElement.parentElement.appendChild(cancel);\n",
              "  cancel.textContent = 'Cancel upload';\n",
              "  const cancelPromise = new Promise((resolve) => {\n",
              "    cancel.onclick = () => {\n",
              "      resolve(null);\n",
              "    };\n",
              "  });\n",
              "\n",
              "  // Wait for the user to pick the files.\n",
              "  const files = yield {\n",
              "    promise: Promise.race([pickedPromise, cancelPromise]),\n",
              "    response: {\n",
              "      action: 'starting',\n",
              "    }\n",
              "  };\n",
              "\n",
              "  cancel.remove();\n",
              "\n",
              "  // Disable the input element since further picks are not allowed.\n",
              "  inputElement.disabled = true;\n",
              "\n",
              "  if (!files) {\n",
              "    return {\n",
              "      response: {\n",
              "        action: 'complete',\n",
              "      }\n",
              "    };\n",
              "  }\n",
              "\n",
              "  for (const file of files) {\n",
              "    const li = document.createElement('li');\n",
              "    li.append(span(file.name, {fontWeight: 'bold'}));\n",
              "    li.append(span(\n",
              "        `(${file.type || 'n/a'}) - ${file.size} bytes, ` +\n",
              "        `last modified: ${\n",
              "            file.lastModifiedDate ? file.lastModifiedDate.toLocaleDateString() :\n",
              "                                    'n/a'} - `));\n",
              "    const percent = span('0% done');\n",
              "    li.appendChild(percent);\n",
              "\n",
              "    outputElement.appendChild(li);\n",
              "\n",
              "    const fileDataPromise = new Promise((resolve) => {\n",
              "      const reader = new FileReader();\n",
              "      reader.onload = (e) => {\n",
              "        resolve(e.target.result);\n",
              "      };\n",
              "      reader.readAsArrayBuffer(file);\n",
              "    });\n",
              "    // Wait for the data to be ready.\n",
              "    let fileData = yield {\n",
              "      promise: fileDataPromise,\n",
              "      response: {\n",
              "        action: 'continue',\n",
              "      }\n",
              "    };\n",
              "\n",
              "    // Use a chunked sending to avoid message size limits. See b/62115660.\n",
              "    let position = 0;\n",
              "    do {\n",
              "      const length = Math.min(fileData.byteLength - position, MAX_PAYLOAD_SIZE);\n",
              "      const chunk = new Uint8Array(fileData, position, length);\n",
              "      position += length;\n",
              "\n",
              "      const base64 = btoa(String.fromCharCode.apply(null, chunk));\n",
              "      yield {\n",
              "        response: {\n",
              "          action: 'append',\n",
              "          file: file.name,\n",
              "          data: base64,\n",
              "        },\n",
              "      };\n",
              "\n",
              "      let percentDone = fileData.byteLength === 0 ?\n",
              "          100 :\n",
              "          Math.round((position / fileData.byteLength) * 100);\n",
              "      percent.textContent = `${percentDone}% done`;\n",
              "\n",
              "    } while (position < fileData.byteLength);\n",
              "  }\n",
              "\n",
              "  // All done.\n",
              "  yield {\n",
              "    response: {\n",
              "      action: 'complete',\n",
              "    }\n",
              "  };\n",
              "}\n",
              "\n",
              "scope.google = scope.google || {};\n",
              "scope.google.colab = scope.google.colab || {};\n",
              "scope.google.colab._files = {\n",
              "  _uploadFiles,\n",
              "  _uploadFilesContinue,\n",
              "};\n",
              "})(self);\n",
              "</script> "
            ],
            "text/plain": [
              "<IPython.core.display.HTML object>"
            ]
          },
          "metadata": {},
          "output_type": "display_data"
        },
        {
          "name": "stdout",
          "output_type": "stream",
          "text": [
            "Saving 10-pemandangan-keren-di-indonesia-wajib-dikunjungi-langsung.jpg to 10-pemandangan-keren-di-indonesia-wajib-dikunjungi-langsung.jpg\n",
            "1/1 [==============================] - 0s 100ms/step\n",
            "Ini bukan kendaraan. Confidence: 0.9814692046493292\n"
          ]
        }
      ],
      "source": [
        "import tensorflow as tf\n",
        "from tensorflow.keras.models import load_model\n",
        "from tensorflow.keras.preprocessing import image\n",
        "import numpy as np\n",
        "\n",
        "from google.colab import files\n",
        "from PIL import Image\n",
        "import io\n",
        "\n",
        "cnn_model_path = '/content/cnn-model-image-detection.h5'\n",
        "\n",
        "cnn_model = load_model(cnn_model_path)\n",
        "\n",
        "test_image_path = files.upload()\n",
        "image_data = list(test_image_path.values())[0]\n",
        "\n",
        "img = Image.open(io.BytesIO(image_data))\n",
        "img = img.convert('RGB')\n",
        "img = img.resize((img_width, img_height))\n",
        "\n",
        "test_image = tf.keras.preprocessing.image.img_to_array(img)\n",
        "test_image /= 255.0  # rescale\n",
        "test_image = np.expand_dims(test_image, axis=0)\n",
        "\n",
        "result = cnn_model.predict(test_image)\n",
        "\n",
        "if result[0][0] > 0.5:\n",
        "    print(\"Ini adalah kendaraan. Confidence:\", result[0][0])\n",
        "else:\n",
        "    print(\"Ini bukan kendaraan. Confidence:\", 1 - result[0][0])\n"
      ]
    }
  ],
  "metadata": {
    "accelerator": "GPU",
    "colab": {
      "gpuType": "T4",
      "provenance": []
    },
    "kernelspec": {
      "display_name": "Python 3",
      "name": "python3"
    },
    "language_info": {
      "name": "python"
    }
  },
  "nbformat": 4,
  "nbformat_minor": 0
}
